{
 "cells": [
  {
   "attachments": {},
   "cell_type": "markdown",
   "id": "a54fe998",
   "metadata": {},
   "source": [
    "![image](https://user-images.githubusercontent.com/1651790/221876073-61ef4edb-adcd-4f10-b3fc-8ddc24918ea1.png)"
   ]
  },
  {
   "cell_type": "code",
   "execution_count": null,
   "id": "f46fdd40",
   "metadata": {},
   "outputs": [],
   "source": [
    "# install ng_ai in the first run\n",
    "%pip install ng_ai[networkx] matplotlib"
   ]
  },
  {
   "attachments": {},
   "cell_type": "markdown",
   "id": "5b4e4143",
   "metadata": {},
   "source": [
    "## AI Suite NetworkX Engine Examples\n",
    "### read data with NetowrkX engine, query mode"
   ]
  },
  {
   "attachments": {},
   "cell_type": "markdown",
   "id": "f17abcf8",
   "metadata": {},
   "source": [
    "In this example, we are leveraging the NetworkX Engine of NebulaGraph AI Suite, with the GraphD Query mode.\n",
    "\n",
    "#### Step 1, get graph in Query Mode\n",
    "\n",
    "We will scan all edge in type `follow` and `serve` first with props `degree` in `follow` and no props in `serve` as graph: `g`"
   ]
  },
  {
   "cell_type": "code",
   "execution_count": null,
   "id": "e158440f",
   "metadata": {},
   "outputs": [],
   "source": [
    "from ng_ai import NebulaReader\n",
    "from ng_ai.config import NebulaGraphConfig\n",
    "\n",
    "# read data with nebula/networkx engine, query mode\n",
    "config_dict = {\n",
    "    \"graphd_hosts\": \"graphd:9669\",\n",
    "    \"user\": \"root\",\n",
    "    \"password\": \"nebula\",\n",
    "    \"space\": \"basketballplayer\",\n",
    "}\n",
    "config = NebulaGraphConfig(**config_dict)\n",
    "reader = NebulaReader(engine=\"nebula\", config=config)\n",
    "reader.query(edges=[\"follow\", \"serve\"], props=[[\"degree\"], []])\n",
    "g = reader.read()\n",
    "g.show(10)\n",
    "g.draw()"
   ]
  },
  {
   "attachments": {},
   "cell_type": "markdown",
   "id": "3617de5f",
   "metadata": {},
   "source": [
    "#### Step 2, run Pagerank Algorithm"
   ]
  },
  {
   "cell_type": "code",
   "execution_count": null,
   "id": "90069aaf",
   "metadata": {},
   "outputs": [],
   "source": [
    "pr_result = g.algo.pagerank(reset_prob=0.15, max_iter=10)"
   ]
  },
  {
   "attachments": {},
   "cell_type": "markdown",
   "id": "66e70ca0",
   "metadata": {},
   "source": [
    "#### Step 3, check results of the algorithm\n"
   ]
  },
  {
   "cell_type": "code",
   "execution_count": null,
   "id": "abbce2fa",
   "metadata": {},
   "outputs": [],
   "source": [
    "pr_result"
   ]
  },
  {
   "attachments": {},
   "cell_type": "markdown",
   "id": "3d088006",
   "metadata": {},
   "source": [
    "### Write back algo result to NebulaGraph\n",
    "\n",
    "Assume that we have a result `graph_result` computed with `g.algo.pagerank()`:\n",
    "\n",
    "```python\n",
    "{'player102': 0.014770646980811417,\n",
    " 'player100': 0.02878478843123552,\n",
    " 'player101': 0.020163880830622937,\n",
    " 'player129': 0.012381302535422786,\n",
    " 'player116': 0.015041184157101154,\n",
    " 'player121': 0.012178909379871223,\n",
    " 'player128': 0.010197889677928056,\n",
    "...\n",
    "}\n",
    "```\n",
    "\n",
    "Let's write them back to tag: pagerank(pagerank). So we create a TAG `pagerank` in NebulaGraph on same space with the following schema:\n",
    "\n",
    "```ngql\n",
    "CREATE TAG IF NOT EXISTS pagerank (\n",
    "    pagerank double NOT NULL\n",
    ");\n",
    "```\n",
    "\n",
    "Then, we could write the pagerank result to NebulaGraph, to tag `pagerank` with property `pagerank`:\n",
    "\n",
    "```python\n",
    "properties = [\"pagerank\"]\n",
    "```\n",
    "And pass it to NebulaWriter in `nebula` engine and `nebulagraph_vertex` sink"
   ]
  },
  {
   "cell_type": "code",
   "execution_count": null,
   "id": "6b43261f",
   "metadata": {
    "scrolled": true
   },
   "outputs": [],
   "source": [
    "# Run pagerank Algorithm\n",
    "graph_result = g.algo.pagerank()"
   ]
  },
  {
   "cell_type": "code",
   "execution_count": 9,
   "id": "c5bbf9e0",
   "metadata": {},
   "outputs": [],
   "source": [
    "from ng_ai import NebulaWriter\n",
    "\n",
    "writer = NebulaWriter(\n",
    "    data=graph_result,\n",
    "    sink=\"nebulagraph_vertex\",\n",
    "    config=config,\n",
    "    engine=\"nebula\",\n",
    ")\n",
    "\n",
    "# properties to write\n",
    "properties = [\"pagerank\"]\n",
    "\n",
    "writer.set_options(\n",
    "    tag=\"pagerank\",\n",
    "    properties=properties,\n",
    "    batch_size=256,\n",
    "    write_mode=\"insert\",\n",
    ")\n",
    "# write back to NebulaGraph\n",
    "writer.write()"
   ]
  },
  {
   "attachments": {},
   "cell_type": "markdown",
   "id": "9da30271",
   "metadata": {},
   "source": [
    "Then we could query the result in NebulaGraph:\n",
    "\n",
    "```cypher\n",
    "MATCH (v)\n",
    "RETURN id(v), properties(v).name, v.pagerank.pagerank LIMIT 10;\n",
    "```"
   ]
  },
  {
   "attachments": {},
   "cell_type": "markdown",
   "id": "5bcb02e2",
   "metadata": {},
   "source": [
    "## How to run other algorithm examples"
   ]
  },
  {
   "cell_type": "code",
   "execution_count": null,
   "id": "ff5a866d",
   "metadata": {},
   "outputs": [],
   "source": [
    "# get all algorithms\n",
    "g.algo.get_all_algo()\n",
    "\n",
    "# get help of each algo\n",
    "help(g.algo.node2vec)\n",
    "\n",
    "# call the algo\n",
    "g.algo.node2vec()"
   ]
  }
 ],
 "metadata": {
  "kernelspec": {
   "display_name": "Python 3 (ipykernel)",
   "language": "python",
   "name": "python3"
  },
  "language_info": {
   "codemirror_mode": {
    "name": "ipython",
    "version": 3
   },
   "file_extension": ".py",
   "mimetype": "text/x-python",
   "name": "python",
   "nbconvert_exporter": "python",
   "pygments_lexer": "ipython3",
   "version": "3.7.10"
  }
 },
 "nbformat": 4,
 "nbformat_minor": 5
}
