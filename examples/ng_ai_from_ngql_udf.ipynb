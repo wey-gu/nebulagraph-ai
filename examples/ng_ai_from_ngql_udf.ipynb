{
 "cells": [
  {
   "cell_type": "markdown",
   "id": "ee4221c8",
   "metadata": {},
   "source": [
    "### Call ng_ai API\n",
    "\n",
    "It's either a cURL call or a UDF query from ng_ai-graphd.\n",
    "\n",
    "#### Query from ng_ai-graphd\n",
    "\n",
    "```cypher\n",
    "-- Prepare the write schema\n",
    "USE basketballplayer;\n",
    "CREATE TAG IF NOT EXISTS pagerank(pagerank string);\n",
    ":sleep 20;\n",
    "-- Call with ng_ai()\n",
    "RETURN ng_ai(\"pagerank\", [\"follow\"], [\"degree\"], \"spark\", {space: \"basketballplayer\", max_iter: 10}, {write_mode: \"insert\"})\n",
    "```\n",
    "\n",
    "Where the parameters are:\n",
    "\n",
    "- `algo_name`: the name of the algorithm, e.g. `pagerank`\n",
    "- `edge_types`: the edge types to be used in the algorithm, e.g. `[\"follow\"]`\n",
    "- `edge_weights`: the edge weights to be used in the algorithm, e.g. `[\"degree\"]`\n",
    "- `mode`: the mode(engine) to be used in the algorithm, e.g. `spark`, `networkx`\n",
    "- `algo_context`: the context to be used in the algorithm, e.g. `{space: \"basketballplayer\", max_iter: 10}`\n",
    "\n",
    "#### Call with cURL\n",
    "\n",
    "```bash\n",
    "curl -X POST \\\n",
    "     -H \"Content-Type: application/json\" \\\n",
    "     -d '{\n",
    "          \"write_context\": {\n",
    "              \"write_mode\": \"insert\"\n",
    "          },\n",
    "          \"read_context\": {\n",
    "              \"edge_types\": [\"follow\"],\n",
    "              \"read_mode\": \"scan\",\n",
    "              \"edge_weights\": [\"degree\"]\n",
    "          },\n",
    "          \"algo_context\": {\n",
    "              \"name\": \"pagerank\",\n",
    "              \"space\": \"basketballplayer\"\n",
    "          }\n",
    "     }' \\\n",
    "     http://jupyter:9999/api/v0/spark/pagerank\n",
    "```\n"
   ]
  },
  {
   "cell_type": "code",
   "execution_count": null,
   "id": "a9076c3c",
   "metadata": {},
   "outputs": [],
   "source": [
    "# install ng_ai if not yet.\n",
    "!pip install ng_ai"
   ]
  },
  {
   "cell_type": "markdown",
   "id": "69662a94",
   "metadata": {},
   "source": [
    "## Run ng_ai API gateway:"
   ]
  },
  {
   "cell_type": "code",
   "execution_count": null,
   "id": "a62330fa",
   "metadata": {},
   "outputs": [
    {
     "name": "stdout",
     "output_type": "stream",
     "text": [
      " * Serving Flask app 'ng_ai.ng_ai_api.app'\n",
      " * Debug mode: off\n"
     ]
    },
    {
     "name": "stderr",
     "output_type": "stream",
     "text": [
      "\u001b[31m\u001b[1mWARNING: This is a development server. Do not use it in a production deployment. Use a production WSGI server instead.\u001b[0m\n",
      " * Running on all addresses (0.0.0.0)\n",
      " * Running on http://127.0.0.1:9999\n",
      " * Running on http://172.23.0.27:9999\n",
      "\u001b[33mPress CTRL+C to quit\u001b[0m\n",
      "                                                                                \r"
     ]
    },
    {
     "name": "stdout",
     "output_type": "stream",
     "text": [
      "+---------+\n",
      "|       id|\n",
      "+---------+\n",
      "|player108|\n",
      "|player129|\n",
      "|player120|\n",
      "|player103|\n",
      "|player128|\n",
      "|player148|\n",
      "|player117|\n",
      "|player139|\n",
      "|player140|\n",
      "|player134|\n",
      "|player149|\n",
      "|player150|\n",
      "|player125|\n",
      "|player137|\n",
      "|player143|\n",
      "|player101|\n",
      "|player141|\n",
      "|player144|\n",
      "|player102|\n",
      "|player121|\n",
      "+---------+\n",
      "only showing top 20 rows\n",
      "\n",
      "+-----+------+-----------+----------+\n",
      "|_rank|degree|     _srcId|    _dstId|\n",
      "+-----+------+-----------+----------+\n",
      "|    0|    90|34359738371|         3|\n",
      "|    0|    90|25769803786|         6|\n",
      "|    0|    90|34359738369|         6|\n",
      "|    0|    80| 8589934596|         2|\n",
      "|    0|    99|25769803784|         2|\n",
      "|    0|    90|25769803777|         2|\n",
      "|    0|    90|          1|         4|\n",
      "|    0|    90|17179869189|         4|\n",
      "|    0|    90|          4|         1|\n",
      "|    0|    10| 8589934598|         1|\n",
      "|    0|    90|17179869189|         1|\n",
      "|    0|    80| 8589934598|         5|\n",
      "|    0|    85|25769803786|         5|\n",
      "|    0|    70|34359738373|         5|\n",
      "|    0|    95|17179869185|8589934597|\n",
      "|    0|    95|25769803778|8589934597|\n",
      "|    0|    99|25769803784|8589934597|\n",
      "|    0|    90|34359738368|8589934597|\n",
      "|    0|    85|          5|8589934598|\n",
      "|    0|    90| 8589934596|8589934598|\n",
      "+-----+------+-----------+----------+\n",
      "only showing top 20 rows\n",
      "\n"
     ]
    },
    {
     "name": "stderr",
     "output_type": "stream",
     "text": [
      "172.23.0.29 - - [20/Mar/2023 07:11:01] \"POST /api/v0/spark/pagerank HTTP/1.1\" 200 -\n"
     ]
    }
   ],
   "source": [
    "from ng_ai import ng_ai_api_app as app\n",
    "\n",
    "app.run(port=9999, host='0.0.0.0')"
   ]
  },
  {
   "cell_type": "markdown",
   "id": "8d9fecc1",
   "metadata": {},
   "source": [
    "The result of the json(translated into table) is like:\n",
    "\n",
    "| algo_result_stats.0._id | algo_result_stats.0.pagerank | algo_result_stats.0.summary | algo_result_stats.1._id | algo_result_stats.1.pagerank | algo_result_stats.1.summary | algo_result_stats.2._id | algo_result_stats.2.pagerank | algo_result_stats.2.summary | algo_result_stats.3._id | algo_result_stats.3.pagerank | algo_result_stats.3.summary | algo_result_stats.4._id | algo_result_stats.4.pagerank | algo_result_stats.4.summary | algo_result_stats.5._id | algo_result_stats.5.pagerank | algo_result_stats.5.summary | algo_result_stats.6._id | algo_result_stats.6.pagerank | algo_result_stats.6.summary | algo_result_stats.7._id | algo_result_stats.7.pagerank | algo_result_stats.7.summary | reader_result_stats.0._dstId | reader_result_stats.0._rank | reader_result_stats.0._srcId | reader_result_stats.0.degree | reader_result_stats.0.summary | reader_result_stats.1._dstId | reader_result_stats.1._rank | reader_result_stats.1._srcId | reader_result_stats.1.degree | reader_result_stats.1.summary | reader_result_stats.2._dstId | reader_result_stats.2._rank | reader_result_stats.2._srcId | reader_result_stats.2.degree | reader_result_stats.2.summary | reader_result_stats.3._dstId | reader_result_stats.3._rank | reader_result_stats.3._srcId | reader_result_stats.3.degree | reader_result_stats.3.summary | reader_result_stats.4._dstId | reader_result_stats.4._rank | reader_result_stats.4._srcId | reader_result_stats.4.degree | reader_result_stats.4.summary | reader_result_stats.5._dstId | reader_result_stats.5._rank | reader_result_stats.5._srcId | reader_result_stats.5.degree | reader_result_stats.5.summary | reader_result_stats.6._dstId | reader_result_stats.6._rank | reader_result_stats.6._srcId | reader_result_stats.6.degree | reader_result_stats.6.summary | reader_result_stats.7._dstId | reader_result_stats.7._rank | reader_result_stats.7._srcId | reader_result_stats.7.degree | reader_result_stats.7.summary | writer_result |\n",
    "| ----------------------- | ---------------------------- | --------------------------- | ----------------------- | ---------------------------- | --------------------------- | ----------------------- | ---------------------------- | --------------------------- | ----------------------- | ---------------------------- | --------------------------- | ----------------------- | ---------------------------- | --------------------------- | ----------------------- | ---------------------------- | --------------------------- | ----------------------- | ---------------------------- | --------------------------- | ----------------------- | ---------------------------- | --------------------------- | ---------------------------- | --------------------------- | ---------------------------- | ---------------------------- | ----------------------------- | ---------------------------- | --------------------------- | ---------------------------- | ---------------------------- | ----------------------------- | ---------------------------- | --------------------------- | ---------------------------- | ---------------------------- | ----------------------------- | ---------------------------- | --------------------------- | ---------------------------- | ---------------------------- | ----------------------------- | ---------------------------- | --------------------------- | ---------------------------- | ---------------------------- | ----------------------------- | ---------------------------- | --------------------------- | ---------------------------- | ---------------------------- | ----------------------------- | ---------------------------- | --------------------------- | ---------------------------- | ---------------------------- | ----------------------------- | ---------------------------- | --------------------------- | ---------------------------- | ---------------------------- | ----------------------------- | ------------- |\n",
    "| 44                      | 44                           | count                       |                         | 1.0                          | mean                        |                         | 1.2523434472897175           | stddev                      | player100               | 0.18601069183310504          | min                         |                         | 0.2003842452929359           | 25%                         |                         | 0.45392364809815683          | 50%                         |                         | 1.0722447015912284           | 75%                         | player150               | 5.488939515247179            | max                         | 81                           | 81                          | 81                           | 81                           | count                         |                              | 0.0                         |                              | 82.44444444444444            | mean                          |                              | 0.0                         |                              | 22.10316719386613            | stddev                        | player100                    | 0                           | player100                    | -1                           | min                           |                              | 0                           |                              | 80                           | 25%                           |                              | 0                           |                              | 90                           | 50%                           |                              | 0                           |                              | 90                           | 75%                           | player150                    | 0                           | player150                    | 100                          | max                           | true          |"
   ]
  },
  {
   "cell_type": "markdown",
   "id": "a8c0577b",
   "metadata": {},
   "source": [
    "## Verify the results\n",
    "\n",
    "```cypher\n",
    "MATCH (n:pagerank) RETURN n LIMIT 100\n",
    "```"
   ]
  },
  {
   "cell_type": "markdown",
   "id": "d61c5d6d",
   "metadata": {},
   "source": [
    "## Other algorithms"
   ]
  },
  {
   "cell_type": "markdown",
   "id": "c4630751",
   "metadata": {},
   "source": [
    "Create tags for the algorithms writting path\n",
    "\n",
    "```cypher\n",
    "CREATE TAG IF NOT EXISTS label_propagation(lpa string);\n",
    "CREATE TAG IF NOT EXISTS louvain(louvain string);\n",
    "CREATE TAG IF NOT EXISTS k_core(kcore string);\n",
    "CREATE TAG IF NOT EXISTS degree_statics(degree int,inDegree int,outDegree int);\n",
    "CREATE TAG IF NOT EXISTS betweenness_centrality(betweenness double);\n",
    "CREATE TAG IF NOT EXISTS coefficient_centrality(clustercoefficient double);\n",
    "CREATE TAG IF NOT EXISTS bfs(bfs string);\n",
    "CREATE TAG IF NOT EXISTS hanp(hanp string);\n",
    "CREATE TAG IF NOT EXISTS jaccard(jaccard string);\n",
    "CREATE TAG IF NOT EXISTS strong_connected_components(scc string);\n",
    "CREATE TAG IF NOT EXISTS connected_components(cc string);\n",
    "CREATE TAG IF NOT EXISTS triangle_count(trianglecount int);\n",
    "```"
   ]
  },
  {
   "cell_type": "markdown",
   "id": "9b138c80",
   "metadata": {},
   "source": [
    "i.e. call a k-core algorithm\n",
    "\n",
    "```cypher\n",
    "RETURN ng_ai(\"k_core\", [\"follow\"], [\"degree\"], \"spark\", {space: \"basketballplayer\"}, {write_mode: \"insert\"})\n",
    "```"
   ]
  }
 ],
 "metadata": {
  "kernelspec": {
   "display_name": "Python 3 (ipykernel)",
   "language": "python",
   "name": "python3"
  },
  "language_info": {
   "codemirror_mode": {
    "name": "ipython",
    "version": 3
   },
   "file_extension": ".py",
   "mimetype": "text/x-python",
   "name": "python",
   "nbconvert_exporter": "python",
   "pygments_lexer": "ipython3",
   "version": "3.7.10"
  }
 },
 "nbformat": 4,
 "nbformat_minor": 5
}
