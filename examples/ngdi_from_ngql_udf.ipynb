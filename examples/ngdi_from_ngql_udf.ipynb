{
 "cells": [
  {
   "attachments": {},
   "cell_type": "markdown",
   "id": "ee4221c8",
   "metadata": {},
   "source": [
    "### Call ngdi API\n",
    "\n",
    "It's either a cURL call or a UDF query from ngdi-graphd.\n",
    "\n",
    "#### Query from ngdi-graphd\n",
    "\n",
    "```cypher\n",
    "-- Prepare the write schema\n",
    "USE basketballplayer;\n",
    "CREATE TAG IF NOT EXISTS pagerank(pagerank string);\n",
    ":sleep 20;\n",
    "-- Call with ngdi()\n",
    "RETURN ngdi(\"pagerank\", [\"follow\"], [\"degree\"], \"spark\", {space: \"basketballplayer\", max_iter: 10}, {write_mode: \"insert\"})\n",
    "```\n",
    "\n",
    "Where the parameters are:\n",
    "\n",
    "- `algo_name`: the name of the algorithm, e.g. `pagerank`\n",
    "- `edge_types`: the edge types to be used in the algorithm, e.g. `[\"follow\"]`\n",
    "- `edge_weights`: the edge weights to be used in the algorithm, e.g. `[\"degree\"]`\n",
    "- `mode`: the mode(engine) to be used in the algorithm, e.g. `spark`, `networkx`\n",
    "- `algo_context`: the context to be used in the algorithm, e.g. `{space: \"basketballplayer\", max_iter: 10}`\n",
    "\n",
    "#### Call with cURL\n",
    "\n",
    "```bash\n",
    "curl -X POST \\\n",
    "     -H \"Content-Type: application/json\" \\\n",
    "     -d '{\n",
    "          \"write_context\": {\n",
    "              \"write_mode\": \"insert\"\n",
    "          },\n",
    "          \"read_context\": {\n",
    "              \"edge_types\": [\"follow\"],\n",
    "              \"read_mode\": \"scan\",\n",
    "              \"edge_weights\": [\"degree\"]\n",
    "          },\n",
    "          \"algo_context\": {\n",
    "              \"name\": \"pagerank\",\n",
    "              \"space\": \"basketballplayer\"\n",
    "          }\n",
    "     }' \\\n",
    "     http://jupyter:9999/api/v0/spark/pagerank\n",
    "```\n"
   ]
  },
  {
   "cell_type": "code",
   "execution_count": null,
   "id": "a9076c3c",
   "metadata": {},
   "outputs": [],
   "source": [
    "# install ngdi if not yet.\n",
    "!pip install ngdi"
   ]
  },
  {
   "attachments": {},
   "cell_type": "markdown",
   "id": "69662a94",
   "metadata": {},
   "source": [
    "## Run ngdi API gateway:"
   ]
  },
  {
   "cell_type": "code",
   "execution_count": null,
   "id": "a62330fa",
   "metadata": {},
   "outputs": [],
   "source": [
    "from ngdi import ngdi_api_app as app\n",
    "\n",
    "app.run(port=9999, host='0.0.0.0')"
   ]
  },
  {
   "cell_type": "markdown",
   "id": "1b5b1c7d",
   "metadata": {},
   "source": []
  },
  {
   "attachments": {},
   "cell_type": "markdown",
   "id": "8d9fecc1",
   "metadata": {},
   "source": [
    "The result of the json(translated into table) is like:\n",
    "\n",
    "| algo_result_stats.0._id | algo_result_stats.0.pagerank | algo_result_stats.0.summary | algo_result_stats.1._id | algo_result_stats.1.pagerank | algo_result_stats.1.summary | algo_result_stats.2._id | algo_result_stats.2.pagerank | algo_result_stats.2.summary | algo_result_stats.3._id | algo_result_stats.3.pagerank | algo_result_stats.3.summary | algo_result_stats.4._id | algo_result_stats.4.pagerank | algo_result_stats.4.summary | algo_result_stats.5._id | algo_result_stats.5.pagerank | algo_result_stats.5.summary | algo_result_stats.6._id | algo_result_stats.6.pagerank | algo_result_stats.6.summary | algo_result_stats.7._id | algo_result_stats.7.pagerank | algo_result_stats.7.summary | reader_result_stats.0._dstId | reader_result_stats.0._rank | reader_result_stats.0._srcId | reader_result_stats.0.degree | reader_result_stats.0.summary | reader_result_stats.1._dstId | reader_result_stats.1._rank | reader_result_stats.1._srcId | reader_result_stats.1.degree | reader_result_stats.1.summary | reader_result_stats.2._dstId | reader_result_stats.2._rank | reader_result_stats.2._srcId | reader_result_stats.2.degree | reader_result_stats.2.summary | reader_result_stats.3._dstId | reader_result_stats.3._rank | reader_result_stats.3._srcId | reader_result_stats.3.degree | reader_result_stats.3.summary | reader_result_stats.4._dstId | reader_result_stats.4._rank | reader_result_stats.4._srcId | reader_result_stats.4.degree | reader_result_stats.4.summary | reader_result_stats.5._dstId | reader_result_stats.5._rank | reader_result_stats.5._srcId | reader_result_stats.5.degree | reader_result_stats.5.summary | reader_result_stats.6._dstId | reader_result_stats.6._rank | reader_result_stats.6._srcId | reader_result_stats.6.degree | reader_result_stats.6.summary | reader_result_stats.7._dstId | reader_result_stats.7._rank | reader_result_stats.7._srcId | reader_result_stats.7.degree | reader_result_stats.7.summary | writer_result |\n",
    "| ----------------------- | ---------------------------- | --------------------------- | ----------------------- | ---------------------------- | --------------------------- | ----------------------- | ---------------------------- | --------------------------- | ----------------------- | ---------------------------- | --------------------------- | ----------------------- | ---------------------------- | --------------------------- | ----------------------- | ---------------------------- | --------------------------- | ----------------------- | ---------------------------- | --------------------------- | ----------------------- | ---------------------------- | --------------------------- | ---------------------------- | --------------------------- | ---------------------------- | ---------------------------- | ----------------------------- | ---------------------------- | --------------------------- | ---------------------------- | ---------------------------- | ----------------------------- | ---------------------------- | --------------------------- | ---------------------------- | ---------------------------- | ----------------------------- | ---------------------------- | --------------------------- | ---------------------------- | ---------------------------- | ----------------------------- | ---------------------------- | --------------------------- | ---------------------------- | ---------------------------- | ----------------------------- | ---------------------------- | --------------------------- | ---------------------------- | ---------------------------- | ----------------------------- | ---------------------------- | --------------------------- | ---------------------------- | ---------------------------- | ----------------------------- | ---------------------------- | --------------------------- | ---------------------------- | ---------------------------- | ----------------------------- | ------------- |\n",
    "| 44                      | 44                           | count                       |                         | 1.0                          | mean                        |                         | 1.2523434472897175           | stddev                      | player100               | 0.18601069183310504          | min                         |                         | 0.2003842452929359           | 25%                         |                         | 0.45392364809815683          | 50%                         |                         | 1.0722447015912284           | 75%                         | player150               | 5.488939515247179            | max                         | 81                           | 81                          | 81                           | 81                           | count                         |                              | 0.0                         |                              | 82.44444444444444            | mean                          |                              | 0.0                         |                              | 22.10316719386613            | stddev                        | player100                    | 0                           | player100                    | -1                           | min                           |                              | 0                           |                              | 80                           | 25%                           |                              | 0                           |                              | 90                           | 50%                           |                              | 0                           |                              | 90                           | 75%                           | player150                    | 0                           | player150                    | 100                          | max                           | true          |"
   ]
  }
 ],
 "metadata": {
  "kernelspec": {
   "display_name": "Python 3 (ipykernel)",
   "language": "python",
   "name": "python3"
  },
  "language_info": {
   "codemirror_mode": {
    "name": "ipython",
    "version": 3
   },
   "file_extension": ".py",
   "mimetype": "text/x-python",
   "name": "python",
   "nbconvert_exporter": "python",
   "pygments_lexer": "ipython3",
   "version": "3.7.10"
  }
 },
 "nbformat": 4,
 "nbformat_minor": 5
}
