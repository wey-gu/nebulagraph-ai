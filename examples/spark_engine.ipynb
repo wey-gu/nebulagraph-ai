{
 "cells": [
  {
   "cell_type": "markdown",
   "id": "a54fe998",
   "metadata": {},
   "source": [
    "![image](https://user-images.githubusercontent.com/1651790/221876073-61ef4edb-adcd-4f10-b3fc-8ddc24918ea1.png)"
   ]
  },
  {
   "cell_type": "code",
   "execution_count": null,
   "id": "f46fdd40",
   "metadata": {},
   "outputs": [],
   "source": [
    "# install ngdi in the first run\n",
    "!pip install ngdi"
   ]
  },
  {
   "cell_type": "markdown",
   "id": "5b4e4143",
   "metadata": {},
   "source": [
    "## Data Intelligence Suite Spark Engine Examples\n",
    "### read data with spark engine, scan mode"
   ]
  },
  {
   "cell_type": "markdown",
   "id": "f17abcf8",
   "metadata": {},
   "source": [
    "In this example, we are leveraging the Spark Engine of NebulaGraph DI Suite, with the Storage Scan mode.\n",
    "\n",
    "#### Step 1, get dataframe by scanning the Graph\n",
    "\n",
    "We will scan all edge in type `follow` first as dataframe: `df`"
   ]
  },
  {
   "cell_type": "code",
   "execution_count": 1,
   "id": "e158440f",
   "metadata": {},
   "outputs": [
    {
     "name": "stderr",
     "output_type": "stream",
     "text": [
      "[Stage 0:>                                                          (0 + 1) / 1]"
     ]
    },
    {
     "name": "stdout",
     "output_type": "stream",
     "text": [
      "+---------+---------+-----+------+\n",
      "|   _srcId|   _dstId|_rank|degree|\n",
      "+---------+---------+-----+------+\n",
      "|player105|player100|    0|    70|\n",
      "|player105|player104|    0|    83|\n",
      "+---------+---------+-----+------+\n",
      "only showing top 2 rows\n",
      "\n"
     ]
    },
    {
     "name": "stderr",
     "output_type": "stream",
     "text": [
      "                                                                                \r"
     ]
    }
   ],
   "source": [
    "from ngdi import NebulaReader\n",
    "# read data with spark engine, scan mode\n",
    "reader = NebulaReader(engine=\"spark\")\n",
    "reader.scan(edge=\"follow\", props=\"degree\")\n",
    "df = reader.read()\n",
    "df.show(2)"
   ]
  },
  {
   "cell_type": "markdown",
   "id": "3617de5f",
   "metadata": {},
   "source": [
    "#### Step 2, run Pagerank Algorithm"
   ]
  },
  {
   "cell_type": "code",
   "execution_count": 2,
   "id": "90069aaf",
   "metadata": {},
   "outputs": [
    {
     "name": "stderr",
     "output_type": "stream",
     "text": [
      "                                                                                \r"
     ]
    },
    {
     "name": "stdout",
     "output_type": "stream",
     "text": [
      "+---------+\n",
      "|       id|\n",
      "+---------+\n",
      "|player108|\n",
      "|player129|\n",
      "|player120|\n",
      "|player103|\n",
      "|player128|\n",
      "|player148|\n",
      "|player117|\n",
      "|player139|\n",
      "|player140|\n",
      "|player134|\n",
      "|player149|\n",
      "|player150|\n",
      "|player125|\n",
      "|player137|\n",
      "|player143|\n",
      "|player101|\n",
      "|player141|\n",
      "|player144|\n",
      "|player102|\n",
      "|player121|\n",
      "+---------+\n",
      "only showing top 20 rows\n",
      "\n"
     ]
    },
    {
     "name": "stderr",
     "output_type": "stream",
     "text": [
      "                                                                                \r"
     ]
    },
    {
     "name": "stdout",
     "output_type": "stream",
     "text": [
      "+-----+------+-----------+----------+\n",
      "|_rank|degree|     _srcId|    _dstId|\n",
      "+-----+------+-----------+----------+\n",
      "|    0|    90|34359738371|         3|\n",
      "|    0|    90|25769803786|         6|\n",
      "|    0|    90|34359738369|         6|\n",
      "|    0|    80| 8589934596|         2|\n",
      "|    0|    99|25769803784|         2|\n",
      "|    0|    90|25769803777|         2|\n",
      "|    0|    90|          1|         4|\n",
      "|    0|    90|17179869189|         4|\n",
      "|    0|    90|          4|         1|\n",
      "|    0|    10| 8589934598|         1|\n",
      "|    0|    90|17179869189|         1|\n",
      "|    0|    80| 8589934598|         5|\n",
      "|    0|    85|25769803786|         5|\n",
      "|    0|    70|34359738373|         5|\n",
      "|    0|    95|17179869185|8589934597|\n",
      "|    0|    95|25769803778|8589934597|\n",
      "|    0|    99|25769803784|8589934597|\n",
      "|    0|    90|34359738368|8589934597|\n",
      "|    0|    85|          5|8589934598|\n",
      "|    0|    90| 8589934596|8589934598|\n",
      "+-----+------+-----------+----------+\n",
      "only showing top 20 rows\n",
      "\n"
     ]
    },
    {
     "name": "stderr",
     "output_type": "stream",
     "text": [
      "                                                                                \r"
     ]
    }
   ],
   "source": [
    "pr_result = df.algo.pagerank(reset_prob=0.15, max_iter=10)"
   ]
  },
  {
   "cell_type": "markdown",
   "id": "66e70ca0",
   "metadata": {},
   "source": [
    "#### Step 3, check results of the algorithm\n"
   ]
  },
  {
   "cell_type": "code",
   "execution_count": 3,
   "id": "abbce2fa",
   "metadata": {},
   "outputs": [
    {
     "name": "stdout",
     "output_type": "stream",
     "text": [
      "+---------+-------------------+\n",
      "|      _id|           pagerank|\n",
      "+---------+-------------------+\n",
      "|player133|0.18601069183310506|\n",
      "|player126|0.18601069183310506|\n",
      "|player130| 1.2400712788873671|\n",
      "|player108|0.18601069183310506|\n",
      "|player102| 1.6602373739502538|\n",
      "+---------+-------------------+\n",
      "only showing top 5 rows\n",
      "\n"
     ]
    }
   ],
   "source": [
    "pr_result.show(5)"
   ]
  },
  {
   "cell_type": "markdown",
   "id": "3eb228f8",
   "metadata": {},
   "source": [
    "------------------\n",
    "### read data with spark engine, query mode\n",
    "\n",
    "In this example, we are leveraging the Spark Engine of NebulaGraph DI Suite, with the Graph Query mode.\n",
    "\n",
    "#### Step 1, get dataframe by querying the Graph with a Cypher\n",
    "\n",
    "We will query 100000 edges in type `follow` as a dataframe: `df`"
   ]
  },
  {
   "cell_type": "code",
   "execution_count": 4,
   "id": "e44ac3e9",
   "metadata": {},
   "outputs": [
    {
     "name": "stdout",
     "output_type": "stream",
     "text": [
      "+---------+---------+-----+------+\n",
      "|   _srcId|   _dstId|_rank|degree|\n",
      "+---------+---------+-----+------+\n",
      "|player102|player100|    0|    75|\n",
      "|player102|player101|    0|    75|\n",
      "+---------+---------+-----+------+\n",
      "only showing top 2 rows\n",
      "\n"
     ]
    }
   ],
   "source": [
    "from ngdi import NebulaReader\n",
    "# read data with spark engine, query mode\n",
    "reader = NebulaReader(engine=\"spark\")\n",
    "query = \"\"\"\n",
    "    MATCH ()-[e:follow]->()\n",
    "    RETURN e LIMIT 100000\n",
    "\"\"\"\n",
    "reader.query(query=query, edge=\"follow\", props=\"degree\")\n",
    "df = reader.read() # this will take some time\n",
    "df.show(2)"
   ]
  },
  {
   "cell_type": "markdown",
   "id": "49becbdb",
   "metadata": {},
   "source": [
    "#### Step 2, run Conncted Components Algorithm"
   ]
  },
  {
   "cell_type": "code",
   "execution_count": 5,
   "id": "cfbcda82",
   "metadata": {},
   "outputs": [
    {
     "name": "stdout",
     "output_type": "stream",
     "text": [
      "+---------+\n",
      "|       id|\n",
      "+---------+\n",
      "|player129|\n",
      "|player120|\n",
      "|player148|\n",
      "|player103|\n",
      "|player128|\n",
      "|player108|\n",
      "|player117|\n",
      "|player150|\n",
      "|player125|\n",
      "|player137|\n",
      "|player139|\n",
      "|player140|\n",
      "|player134|\n",
      "|player149|\n",
      "|player102|\n",
      "|player135|\n",
      "|player147|\n",
      "|player121|\n",
      "|player143|\n",
      "|player101|\n",
      "+---------+\n",
      "only showing top 20 rows\n",
      "\n",
      "+-----+------+-----------+----------+\n",
      "|_rank|degree|     _srcId|    _dstId|\n",
      "+-----+------+-----------+----------+\n",
      "|    0|    90|34359738368|         3|\n",
      "|    0|    90|25769803781|         6|\n",
      "|    0|    90|34359738371|         6|\n",
      "|    0|    80| 8589934592|         1|\n",
      "|    0|    99|25769803779|         1|\n",
      "|    0|    90|25769803784|         1|\n",
      "|    0|    90|          0|         4|\n",
      "|    0|    90|17179869187|         4|\n",
      "|    0|    90|          4|         0|\n",
      "|    0|    10| 8589934594|         0|\n",
      "|    0|    90|17179869187|         0|\n",
      "|    0|    80| 8589934594|         2|\n",
      "|    0|    85|25769803781|         2|\n",
      "|    0|    70|34359738370|         2|\n",
      "|    0|    95|17179869189|8589934593|\n",
      "|    0|    95|25769803785|8589934593|\n",
      "|    0|    99|25769803779|8589934593|\n",
      "|    0|    90|34359738372|8589934593|\n",
      "|    0|    85|          2|8589934594|\n",
      "|    0|    90| 8589934592|8589934594|\n",
      "+-----+------+-----------+----------+\n",
      "only showing top 20 rows\n",
      "\n"
     ]
    }
   ],
   "source": [
    "cc_result = df.algo.connected_components(max_iter=10)"
   ]
  },
  {
   "cell_type": "markdown",
   "id": "38181d45",
   "metadata": {},
   "source": [
    "#### Step 3, check results of the algorithm\n"
   ]
  },
  {
   "cell_type": "code",
   "execution_count": 6,
   "id": "bed14375",
   "metadata": {},
   "outputs": [
    {
     "name": "stdout",
     "output_type": "stream",
     "text": [
      "+---------+---------+\n",
      "|      _id|       cc|\n",
      "+---------+---------+\n",
      "|player115|player129|\n",
      "|player113|player129|\n",
      "|player100|player129|\n",
      "|player129|player129|\n",
      "|player137|player129|\n",
      "+---------+---------+\n",
      "only showing top 5 rows\n",
      "\n"
     ]
    }
   ],
   "source": [
    "cc_result.show(5)"
   ]
  },
  {
   "cell_type": "markdown",
   "id": "5bcb02e2",
   "metadata": {},
   "source": [
    "## Other algorithm examples"
   ]
  },
  {
   "cell_type": "code",
   "execution_count": null,
   "id": "ff5a866d",
   "metadata": {},
   "outputs": [],
   "source": [
    "# lpa_result  = df.algo.label_propagation()\n",
    "# louvain_result = df.algo.louvain()\n",
    "# k_core_result = df.algo.k_core()\n",
    "# degree_statics_result = df.algo.degree_statics()\n",
    "# betweenness_centrality_result = df.algo.betweenness_centrality()\n",
    "# coefficient_centrality_result = df.algo.coefficient_centrality()\n",
    "# bfs_result = df.algo.bfs()\n",
    "# hanp_result = df.algo.hanp()\n",
    "# jaccard_result = df.algo.jaccard()\n",
    "# strong_connected_components_result = df.algo.strong_connected_components()\n",
    "# triangle_count_result = df.algo.triangle_count()"
   ]
  }
 ],
 "metadata": {
  "kernelspec": {
   "display_name": "Python 3 (ipykernel)",
   "language": "python",
   "name": "python3"
  },
  "language_info": {
   "codemirror_mode": {
    "name": "ipython",
    "version": 3
   },
   "file_extension": ".py",
   "mimetype": "text/x-python",
   "name": "python",
   "nbconvert_exporter": "python",
   "pygments_lexer": "ipython3",
   "version": "3.7.10"
  }
 },
 "nbformat": 4,
 "nbformat_minor": 5
}

