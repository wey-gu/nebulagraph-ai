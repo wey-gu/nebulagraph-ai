{
 "cells": [
  {
   "cell_type": "markdown",
   "id": "8a6e2678",
   "metadata": {},
   "source": [
    "## Test Reader Scan Mode"
   ]
  },
  {
   "cell_type": "code",
   "execution_count": null,
   "id": "dc946910",
   "metadata": {},
   "outputs": [],
   "source": [
    "from ng_ai import NebulaReader\n",
    "from ng_ai import NebulaGraphConfig\n",
    "\n",
    "config_dict = {\n",
    "    \"graphd_hosts\": \"graphd:9669\",\n",
    "    \"metad_hosts\": \"metad0:9559\",\n",
    "    \"user\": \"root\",\n",
    "    \"password\": \"nebula\",\n",
    "    \"space\": \"basketballplayer\",\n",
    "}\n",
    "config = NebulaGraphConfig(**config_dict)\n",
    "reader = NebulaReader(engine=\"spark\", config=config)\n",
    "reader.scan(edge=\"follow\", props=\"degree\")\n",
    "df = reader.read()"
   ]
  },
  {
   "cell_type": "code",
   "execution_count": null,
   "id": "acf8ea34",
   "metadata": {},
   "outputs": [],
   "source": [
    "df.show(2)"
   ]
  },
  {
   "cell_type": "markdown",
   "id": "170f8c38",
   "metadata": {},
   "source": [
    "## Test Algo Pagerank"
   ]
  },
  {
   "cell_type": "code",
   "execution_count": null,
   "id": "03975505",
   "metadata": {},
   "outputs": [],
   "source": [
    "pr_result = df.algo.pagerank(reset_prob=0.15, max_iter=10)"
   ]
  },
  {
   "cell_type": "code",
   "execution_count": null,
   "id": "2b157bcb",
   "metadata": {},
   "outputs": [],
   "source": [
    "pr_result.show(5)"
   ]
  },
  {
   "cell_type": "markdown",
   "id": "6051622d",
   "metadata": {},
   "source": [
    "## Test Reader Query Mode"
   ]
  },
  {
   "cell_type": "code",
   "execution_count": null,
   "id": "a05a12ad",
   "metadata": {},
   "outputs": [],
   "source": [
    "from ng_ai import NebulaReader\n",
    "from ng_ai.config import NebulaGraphConfig\n",
    "\n",
    "# read data with spark engine, query mode\n",
    "config_dict = {\n",
    "    \"graphd_hosts\": \"graphd:9669\",\n",
    "    \"metad_hosts\": \"metad0:9559\",\n",
    "    \"user\": \"root\",\n",
    "    \"password\": \"nebula\",\n",
    "    \"space\": \"basketballplayer\",\n",
    "}\n",
    "config = NebulaGraphConfig(**config_dict)\n",
    "reader = NebulaReader(engine=\"spark\", config=config)\n",
    "query = \"\"\"\n",
    "    MATCH ()-[e:follow]->()\n",
    "    RETURN e LIMIT 100000\n",
    "\"\"\"\n",
    "reader.query(query=query, edge=\"follow\", props=\"degree\")\n",
    "df = reader.read()  # this will take some time"
   ]
  },
  {
   "cell_type": "code",
   "execution_count": null,
   "id": "bfc30c38",
   "metadata": {},
   "outputs": [],
   "source": [
    "df.show(2)"
   ]
  },
  {
   "cell_type": "markdown",
   "id": "311b49c4",
   "metadata": {},
   "source": [
    "## Test Writer insert mode in sink: `nebulagraph_vertex`"
   ]
  },
  {
   "cell_type": "code",
   "execution_count": null,
   "id": "3d25ad22",
   "metadata": {},
   "outputs": [],
   "source": [
    "from ng_ai import NebulaWriter\n",
    "from ng_ai.config import NebulaGraphConfig\n",
    "\n",
    "\n",
    "df_result = df.algo.label_propagation()\n",
    "\n",
    "config_dict = {\n",
    "    \"graphd_hosts\": \"graphd:9669\",\n",
    "    \"metad_hosts\": \"metad0:9559\",\n",
    "    \"user\": \"root\",\n",
    "    \"password\": \"nebula\",\n",
    "    \"space\": \"basketballplayer\",\n",
    "}\n",
    "config = NebulaGraphConfig(**config_dict)\n",
    "\n",
    "writer = NebulaWriter(\n",
    "    data=df_result, sink=\"nebulagraph_vertex\", config=config, engine=\"spark\"\n",
    ")\n",
    "\n",
    "# map column louvain into property cluster_id\n",
    "properties = {\"lpa\": \"cluster_id\"}\n",
    "\n",
    "writer.set_options(\n",
    "    tag=\"label_propagation\",\n",
    "    vid_field=\"_id\",\n",
    "    properties=properties,\n",
    "    batch_size=256,\n",
    "    write_mode=\"insert\",\n",
    ")\n",
    "# write back to NebulaGraph\n",
    "writer.write()"
   ]
  }
 ],
 "metadata": {
  "kernelspec": {
   "display_name": "Python 3 (ipykernel)",
   "language": "python",
   "name": "python3"
  },
  "language_info": {
   "codemirror_mode": {
    "name": "ipython",
    "version": 3
   },
   "file_extension": ".py",
   "mimetype": "text/x-python",
   "name": "python",
   "nbconvert_exporter": "python",
   "pygments_lexer": "ipython3",
   "version": "3.7.10"
  }
 },
 "nbformat": 4,
 "nbformat_minor": 5
}
